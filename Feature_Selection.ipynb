{
 "cells": [
  {
   "cell_type": "code",
   "execution_count": 67,
   "id": "7c215b6c",
   "metadata": {},
   "outputs": [],
   "source": [
    "import numpy as np\n",
    "import pandas as pd\n",
    "import matplotlib.pyplot as plt\n",
    "import seaborn as sns\n",
    "%matplotlib inline"
   ]
  },
  {
   "cell_type": "code",
   "execution_count": 87,
   "id": "1d0c12bf",
   "metadata": {},
   "outputs": [],
   "source": [
    "df=pd.read_csv(\"hp.csv\" ,index_col=0 )"
   ]
  },
  {
   "cell_type": "code",
   "execution_count": 88,
   "id": "fbcb60ba",
   "metadata": {
    "scrolled": false
   },
   "outputs": [
    {
     "data": {
      "text/html": [
       "<div>\n",
       "<style scoped>\n",
       "    .dataframe tbody tr th:only-of-type {\n",
       "        vertical-align: middle;\n",
       "    }\n",
       "\n",
       "    .dataframe tbody tr th {\n",
       "        vertical-align: top;\n",
       "    }\n",
       "\n",
       "    .dataframe thead th {\n",
       "        text-align: right;\n",
       "    }\n",
       "</style>\n",
       "<table border=\"1\" class=\"dataframe\">\n",
       "  <thead>\n",
       "    <tr style=\"text-align: right;\">\n",
       "      <th></th>\n",
       "      <th>MSSubClass</th>\n",
       "      <th>MSZoning</th>\n",
       "      <th>LotFrontage</th>\n",
       "      <th>LotArea</th>\n",
       "      <th>Street</th>\n",
       "      <th>Alley</th>\n",
       "      <th>LotShape</th>\n",
       "      <th>LandContour</th>\n",
       "      <th>Utilities</th>\n",
       "      <th>LotConfig</th>\n",
       "      <th>...</th>\n",
       "      <th>GarageFinishnan</th>\n",
       "      <th>GarageQualnan</th>\n",
       "      <th>GarageCondnan</th>\n",
       "      <th>PoolQCnan</th>\n",
       "      <th>Fencenan</th>\n",
       "      <th>MiscFeaturenan</th>\n",
       "      <th>YearBuilt</th>\n",
       "      <th>YearRemodAdd</th>\n",
       "      <th>GarageYrBlt</th>\n",
       "      <th>SalePrice</th>\n",
       "    </tr>\n",
       "  </thead>\n",
       "  <tbody>\n",
       "    <tr>\n",
       "      <th>0</th>\n",
       "      <td>0.235294</td>\n",
       "      <td>0.75</td>\n",
       "      <td>0.150685</td>\n",
       "      <td>0.033420</td>\n",
       "      <td>1.0</td>\n",
       "      <td>0.5</td>\n",
       "      <td>1.0</td>\n",
       "      <td>1.0</td>\n",
       "      <td>0.0</td>\n",
       "      <td>1.0</td>\n",
       "      <td>...</td>\n",
       "      <td>0.0</td>\n",
       "      <td>0.0</td>\n",
       "      <td>0.0</td>\n",
       "      <td>1.0</td>\n",
       "      <td>1.0</td>\n",
       "      <td>1.0</td>\n",
       "      <td>5</td>\n",
       "      <td>5</td>\n",
       "      <td>5.0</td>\n",
       "      <td>208500</td>\n",
       "    </tr>\n",
       "    <tr>\n",
       "      <th>1</th>\n",
       "      <td>0.000000</td>\n",
       "      <td>0.75</td>\n",
       "      <td>0.202055</td>\n",
       "      <td>0.038795</td>\n",
       "      <td>1.0</td>\n",
       "      <td>0.5</td>\n",
       "      <td>1.0</td>\n",
       "      <td>1.0</td>\n",
       "      <td>0.0</td>\n",
       "      <td>0.5</td>\n",
       "      <td>...</td>\n",
       "      <td>0.0</td>\n",
       "      <td>0.0</td>\n",
       "      <td>0.0</td>\n",
       "      <td>1.0</td>\n",
       "      <td>1.0</td>\n",
       "      <td>1.0</td>\n",
       "      <td>31</td>\n",
       "      <td>31</td>\n",
       "      <td>31.0</td>\n",
       "      <td>181500</td>\n",
       "    </tr>\n",
       "    <tr>\n",
       "      <th>2</th>\n",
       "      <td>0.235294</td>\n",
       "      <td>0.75</td>\n",
       "      <td>0.160959</td>\n",
       "      <td>0.046507</td>\n",
       "      <td>1.0</td>\n",
       "      <td>0.5</td>\n",
       "      <td>0.0</td>\n",
       "      <td>1.0</td>\n",
       "      <td>0.0</td>\n",
       "      <td>1.0</td>\n",
       "      <td>...</td>\n",
       "      <td>0.0</td>\n",
       "      <td>0.0</td>\n",
       "      <td>0.0</td>\n",
       "      <td>1.0</td>\n",
       "      <td>1.0</td>\n",
       "      <td>1.0</td>\n",
       "      <td>7</td>\n",
       "      <td>6</td>\n",
       "      <td>7.0</td>\n",
       "      <td>223500</td>\n",
       "    </tr>\n",
       "    <tr>\n",
       "      <th>3</th>\n",
       "      <td>0.294118</td>\n",
       "      <td>0.75</td>\n",
       "      <td>0.133562</td>\n",
       "      <td>0.038561</td>\n",
       "      <td>1.0</td>\n",
       "      <td>0.5</td>\n",
       "      <td>0.0</td>\n",
       "      <td>1.0</td>\n",
       "      <td>0.0</td>\n",
       "      <td>0.0</td>\n",
       "      <td>...</td>\n",
       "      <td>0.0</td>\n",
       "      <td>0.0</td>\n",
       "      <td>0.0</td>\n",
       "      <td>1.0</td>\n",
       "      <td>1.0</td>\n",
       "      <td>1.0</td>\n",
       "      <td>91</td>\n",
       "      <td>36</td>\n",
       "      <td>8.0</td>\n",
       "      <td>140000</td>\n",
       "    </tr>\n",
       "    <tr>\n",
       "      <th>4</th>\n",
       "      <td>0.235294</td>\n",
       "      <td>0.75</td>\n",
       "      <td>0.215753</td>\n",
       "      <td>0.060576</td>\n",
       "      <td>1.0</td>\n",
       "      <td>0.5</td>\n",
       "      <td>0.0</td>\n",
       "      <td>1.0</td>\n",
       "      <td>0.0</td>\n",
       "      <td>0.5</td>\n",
       "      <td>...</td>\n",
       "      <td>0.0</td>\n",
       "      <td>0.0</td>\n",
       "      <td>0.0</td>\n",
       "      <td>1.0</td>\n",
       "      <td>1.0</td>\n",
       "      <td>1.0</td>\n",
       "      <td>8</td>\n",
       "      <td>8</td>\n",
       "      <td>8.0</td>\n",
       "      <td>250000</td>\n",
       "    </tr>\n",
       "  </tbody>\n",
       "</table>\n",
       "<p>5 rows × 95 columns</p>\n",
       "</div>"
      ],
      "text/plain": [
       "   MSSubClass  MSZoning  LotFrontage   LotArea  Street  Alley  LotShape  \\\n",
       "0    0.235294      0.75     0.150685  0.033420     1.0    0.5       1.0   \n",
       "1    0.000000      0.75     0.202055  0.038795     1.0    0.5       1.0   \n",
       "2    0.235294      0.75     0.160959  0.046507     1.0    0.5       0.0   \n",
       "3    0.294118      0.75     0.133562  0.038561     1.0    0.5       0.0   \n",
       "4    0.235294      0.75     0.215753  0.060576     1.0    0.5       0.0   \n",
       "\n",
       "   LandContour  Utilities  LotConfig  ...  GarageFinishnan  GarageQualnan  \\\n",
       "0          1.0        0.0        1.0  ...              0.0            0.0   \n",
       "1          1.0        0.0        0.5  ...              0.0            0.0   \n",
       "2          1.0        0.0        1.0  ...              0.0            0.0   \n",
       "3          1.0        0.0        0.0  ...              0.0            0.0   \n",
       "4          1.0        0.0        0.5  ...              0.0            0.0   \n",
       "\n",
       "   GarageCondnan  PoolQCnan  Fencenan  MiscFeaturenan  YearBuilt  \\\n",
       "0            0.0        1.0       1.0             1.0          5   \n",
       "1            0.0        1.0       1.0             1.0         31   \n",
       "2            0.0        1.0       1.0             1.0          7   \n",
       "3            0.0        1.0       1.0             1.0         91   \n",
       "4            0.0        1.0       1.0             1.0          8   \n",
       "\n",
       "   YearRemodAdd  GarageYrBlt  SalePrice  \n",
       "0             5          5.0     208500  \n",
       "1            31         31.0     181500  \n",
       "2             6          7.0     223500  \n",
       "3            36          8.0     140000  \n",
       "4             8          8.0     250000  \n",
       "\n",
       "[5 rows x 95 columns]"
      ]
     },
     "execution_count": 88,
     "metadata": {},
     "output_type": "execute_result"
    }
   ],
   "source": [
    "df.head()"
   ]
  },
  {
   "cell_type": "code",
   "execution_count": 89,
   "id": "9cfd5d3b",
   "metadata": {},
   "outputs": [],
   "source": [
    "x=df.drop(columns='SalePrice')     \n",
    "y=df['SalePrice']"
   ]
  },
  {
   "cell_type": "code",
   "execution_count": 90,
   "id": "9e77b39f",
   "metadata": {},
   "outputs": [
    {
     "data": {
      "text/plain": [
       "SalePrice       1.000000\n",
       "OverallQual     0.675264\n",
       "GrLivArea       0.574888\n",
       "TotalBsmtSF     0.548023\n",
       "GarageCars      0.547558\n",
       "                  ...   \n",
       "YearRemodAdd   -0.404884\n",
       "YearBuilt      -0.411671\n",
       "BsmtQual       -0.532941\n",
       "KitchenQual    -0.545531\n",
       "ExterQual      -0.587905\n",
       "Name: SalePrice, Length: 95, dtype: float64"
      ]
     },
     "execution_count": 90,
     "metadata": {},
     "output_type": "execute_result"
    }
   ],
   "source": [
    "df.corr()['SalePrice'].sort_values(ascending=False)"
   ]
  },
  {
   "cell_type": "code",
   "execution_count": 91,
   "id": "deb18739",
   "metadata": {},
   "outputs": [
    {
     "name": "stdout",
     "output_type": "stream",
     "text": [
      "The no of feature is 95\n"
     ]
    }
   ],
   "source": [
    "no_feat=len(df.columns)\n",
    "print(\"The no of feature is {}\".format(no_feat))"
   ]
  },
  {
   "cell_type": "code",
   "execution_count": 92,
   "id": "e5123049",
   "metadata": {},
   "outputs": [
    {
     "data": {
      "text/plain": [
       "OverallQual    0.675264\n",
       "TotalBsmtSF    0.548023\n",
       "1stFlrSF       0.501095\n",
       "GrLivArea      0.574888\n",
       "GarageCars     0.547558\n",
       "GarageArea     0.544397\n",
       "SalePrice      1.000000\n",
       "Name: SalePrice, dtype: float64"
      ]
     },
     "execution_count": 92,
     "metadata": {},
     "output_type": "execute_result"
    }
   ],
   "source": [
    "corr_feat=df.corr()['SalePrice']\n",
    "corr_feat[corr_feat > 0.5]"
   ]
  },
  {
   "cell_type": "code",
   "execution_count": 93,
   "id": "e5bdeee5",
   "metadata": {},
   "outputs": [],
   "source": [
    "feat=[i for i in corr_feat.index if corr_feat[i]>0.5 or corr_feat[i]<-0.5]"
   ]
  },
  {
   "cell_type": "code",
   "execution_count": 94,
   "id": "be51899f",
   "metadata": {},
   "outputs": [
    {
     "data": {
      "text/plain": [
       "['OverallQual',\n",
       " 'ExterQual',\n",
       " 'BsmtQual',\n",
       " 'TotalBsmtSF',\n",
       " '1stFlrSF',\n",
       " 'GrLivArea',\n",
       " 'KitchenQual',\n",
       " 'GarageCars',\n",
       " 'GarageArea',\n",
       " 'SalePrice']"
      ]
     },
     "execution_count": 94,
     "metadata": {},
     "output_type": "execute_result"
    }
   ],
   "source": [
    "feat"
   ]
  },
  {
   "cell_type": "code",
   "execution_count": 108,
   "id": "491b4164",
   "metadata": {},
   "outputs": [
    {
     "data": {
      "image/png": "[encoded data removed]",
      "text/plain": [
       "<Figure size 432x288 with 1 Axes>"
      ]
     },
     "metadata": {
      "needs_background": "light"
     },
     "output_type": "display_data"
    }
   ],
   "source": [
    "featr=pd.Series(corr_feat[feat] ,index=feat).plot(kind='bar')"
   ]
  },
  {
   "cell_type": "code",
   "execution_count": 95,
   "id": "2b9cc8db",
   "metadata": {},
   "outputs": [],
   "source": [
    "from sklearn.ensemble import ExtraTreesRegressor\n",
    "etr=ExtraTreesRegressor()\n",
    "ft=etr.fit(x,y)"
   ]
  },
  {
   "cell_type": "code",
   "execution_count": 96,
   "id": "e383396a",
   "metadata": {},
   "outputs": [
    {
     "data": {
      "text/plain": [
       "array([2.28282908e-03, 2.72472673e-03, 8.12905074e-03, 8.29046524e-03,\n",
       "       3.21788777e-05, 2.13165144e-04, 5.09941562e-03, 1.13254941e-02,\n",
       "       8.63516030e-07, 2.59555850e-03, 4.05373022e-03, 8.86005895e-03,\n",
       "       2.56829466e-03, 1.15881375e-03, 7.58993827e-04, 2.61100573e-03,\n",
       "       1.38900568e-01, 5.85646835e-03, 9.17770111e-03, 5.72625015e-04,\n",
       "       4.68961439e-03, 2.76836327e-03, 2.48562100e-03, 1.61102828e-02,\n",
       "       7.38214278e-02, 9.51731355e-04, 1.06406980e-03, 9.68652592e-02,\n",
       "       8.86828990e-04, 6.67894842e-03, 3.68113396e-03, 1.89774714e-02,\n",
       "       2.67110068e-04, 5.25418356e-04, 8.34955462e-03, 3.78917053e-02,\n",
       "       2.15412337e-03, 1.30438749e-03, 1.95561834e-03, 1.44423996e-04,\n",
       "       2.60115589e-02, 8.67049401e-03, 8.76354412e-04, 6.71667656e-02,\n",
       "       5.64708213e-03, 5.70408247e-04, 1.07345869e-02, 1.11024841e-02,\n",
       "       9.89607956e-03, 4.76780521e-04, 4.96945793e-02, 1.13291732e-02,\n",
       "       4.57301402e-04, 8.05072191e-03, 3.93568572e-03, 9.72689581e-03,\n",
       "       4.61785629e-03, 1.82507148e-01, 2.28283276e-02, 4.86581859e-04,\n",
       "       2.49750381e-04, 3.32032153e-04, 8.19755134e-03, 5.25357899e-03,\n",
       "       1.26147127e-03, 5.51263843e-03, 1.26357281e-03, 2.99205293e-05,\n",
       "       4.91627941e-05, 8.52026103e-04, 7.42088225e-05, 6.63510922e-05,\n",
       "       4.61809676e-03, 7.02086974e-03, 4.55266816e-03, 4.47635033e-04,\n",
       "       2.15537134e-05, 3.49052775e-05, 2.64595876e-05, 2.82389838e-05,\n",
       "       2.26031389e-05, 4.45050546e-05, 3.72250719e-06, 9.10988794e-03,\n",
       "       5.50557308e-05, 1.11850835e-04, 1.04025864e-04, 5.92963276e-05,\n",
       "       4.75341240e-05, 5.61178563e-04, 3.49542289e-05, 6.72256691e-03,\n",
       "       5.52914992e-03, 6.12901039e-03])"
      ]
     },
     "execution_count": 96,
     "metadata": {},
     "output_type": "execute_result"
    }
   ],
   "source": [
    "etr.feature_importances_"
   ]
  },
  {
   "cell_type": "code",
   "execution_count": 105,
   "id": "5ec9d577",
   "metadata": {},
   "outputs": [
    {
     "data": {
      "text/plain": [
       "<AxesSubplot:>"
      ]
     },
     "execution_count": 105,
     "metadata": {},
     "output_type": "execute_result"
    },
    {
     "data": {
      "image/png": "[encoded data removed]",
      "text/plain": [
       "<Figure size 432x288 with 1 Axes>"
      ]
     },
     "metadata": {
      "needs_background": "light"
     },
     "output_type": "display_data"
    }
   ],
   "source": [
    "features=pd.Series(etr.feature_importances_ , index=x.columns).sort_values(ascending=False)\n",
    "features.head(10).plot(kind='bar')"
   ]
  },
  {
   "cell_type": "code",
   "execution_count": 106,
   "id": "27939019",
   "metadata": {},
   "outputs": [
    {
     "data": {
      "text/plain": [
       "Index(['GarageCars', 'OverallQual', 'BsmtQual', 'ExterQual', 'GrLivArea',\n",
       "       'KitchenQual', 'TotalBsmtSF', '1stFlrSF', 'GarageArea', 'BsmtFinSF1'],\n",
       "      dtype='object')"
      ]
     },
     "execution_count": 106,
     "metadata": {},
     "output_type": "execute_result"
    }
   ],
   "source": [
    "features.head(10).index"
   ]
  },
  {
   "cell_type": "code",
   "execution_count": 109,
   "id": "c58324d5",
   "metadata": {},
   "outputs": [],
   "source": [
    "from sklearn.feature_selection import chi2\n",
    "from sklearn.feature_selection import SelectKBest\n",
    "sel=SelectKBest(chi2)\n",
    "# sel.fit(x,y) #error due to x having non negative"
   ]
  },
  {
   "cell_type": "code",
   "execution_count": 121,
   "id": "042903e6",
   "metadata": {},
   "outputs": [],
   "source": [
    "from sklearn.linear_model import Lasso\n",
    "from sklearn.linear_model import LinearRegression\n",
    "from sklearn.linear_model import SGDRegressor\n",
    "from sklearn.feature_selection import SelectFromModel"
   ]
  },
  {
   "cell_type": "code",
   "execution_count": 122,
   "id": "fe779de8",
   "metadata": {},
   "outputs": [
    {
     "data": {
      "text/plain": [
       "array([ True,  True,  True,  True,  True,  True,  True,  True,  True,\n",
       "        True,  True,  True,  True,  True,  True,  True,  True,  True,\n",
       "        True,  True,  True,  True,  True,  True,  True,  True,  True,\n",
       "        True,  True,  True,  True,  True,  True,  True,  True,  True,\n",
       "        True,  True,  True,  True,  True,  True,  True,  True,  True,\n",
       "        True,  True,  True,  True,  True,  True,  True,  True,  True,\n",
       "        True,  True,  True,  True,  True,  True,  True,  True,  True,\n",
       "        True,  True,  True,  True,  True,  True,  True,  True,  True,\n",
       "        True,  True,  True,  True,  True,  True, False,  True,  True,\n",
       "        True,  True,  True,  True, False, False, False,  True,  True,\n",
       "        True,  True,  True,  True])"
      ]
     },
     "execution_count": 122,
     "metadata": {},
     "output_type": "execute_result"
    }
   ],
   "source": [
    "sm_lasso=SelectFromModel(Lasso())\n",
    "sm_lasso.fit(x,y)\n",
    "sm_lasso.get_support()"
   ]
  },
  {
   "cell_type": "code",
   "execution_count": 123,
   "id": "1498f5bf",
   "metadata": {},
   "outputs": [
    {
     "data": {
      "text/plain": [
       "array([False, False, False, False, False, False, False, False, False,\n",
       "       False, False, False, False,  True, False, False,  True, False,\n",
       "       False, False, False, False, False,  True, False, False, False,\n",
       "       False, False, False, False, False, False, False, False,  True,\n",
       "       False, False, False, False,  True, False, False,  True, False,\n",
       "       False, False, False, False, False, False,  True, False, False,\n",
       "       False, False, False, False, False, False, False, False, False,\n",
       "       False, False, False, False,  True,  True, False, False, False,\n",
       "       False, False, False, False, False, False, False, False, False,\n",
       "        True, False, False, False, False, False, False,  True, False,\n",
       "       False, False, False, False])"
      ]
     },
     "execution_count": 123,
     "metadata": {},
     "output_type": "execute_result"
    }
   ],
   "source": [
    "sm_linear=SelectFromModel(LinearRegression())\n",
    "sm_linear.fit(x,y)\n",
    "sm_linear.get_support()"
   ]
  },
  {
   "cell_type": "code",
   "execution_count": 124,
   "id": "ecc94812",
   "metadata": {},
   "outputs": [
    {
     "data": {
      "text/plain": [
       "array([False,  True, False, False, False, False,  True,  True, False,\n",
       "       False, False, False, False, False, False,  True, False, False,\n",
       "        True,  True,  True, False, False,  True, False,  True, False,\n",
       "        True, False, False, False, False, False,  True, False, False,\n",
       "       False,  True,  True,  True, False, False,  True, False,  True,\n",
       "        True, False, False, False, False, False, False, False, False,\n",
       "        True,  True,  True,  True,  True, False,  True,  True, False,\n",
       "       False,  True, False,  True, False, False,  True, False,  True,\n",
       "       False,  True,  True,  True, False,  True,  True,  True,  True,\n",
       "       False, False, False, False, False, False, False, False,  True,\n",
       "        True,  True,  True,  True])"
      ]
     },
     "execution_count": 124,
     "metadata": {},
     "output_type": "execute_result"
    }
   ],
   "source": [
    "sm_grad=SelectFromModel(SGDRegressor(alpha=0.005))\n",
    "sm_grad.fit(x,y)\n",
    "sm_grad.get_support()"
   ]
  },
  {
   "cell_type": "code",
   "execution_count": 128,
   "id": "9e9bb82b",
   "metadata": {},
   "outputs": [
    {
     "data": {
      "text/plain": [
       "['MSZoning',\n",
       " 'LotShape',\n",
       " 'LandContour',\n",
       " 'HouseStyle',\n",
       " 'RoofStyle',\n",
       " 'RoofMatl',\n",
       " 'Exterior1st',\n",
       " 'MasVnrArea',\n",
       " 'ExterCond',\n",
       " 'BsmtQual',\n",
       " 'BsmtFinSF2',\n",
       " 'HeatingQC',\n",
       " 'CentralAir',\n",
       " 'Electrical',\n",
       " 'LowQualFinSF',\n",
       " 'BsmtFullBath',\n",
       " 'BsmtHalfBath',\n",
       " 'FireplaceQu',\n",
       " 'GarageType',\n",
       " 'GarageFinish',\n",
       " 'GarageCars',\n",
       " 'GarageArea',\n",
       " 'GarageCond',\n",
       " 'PavedDrive',\n",
       " 'EnclosedPorch',\n",
       " 'ScreenPorch',\n",
       " 'Fence',\n",
       " 'MiscVal',\n",
       " 'SaleType',\n",
       " 'SaleCondition',\n",
       " 'Alleynan',\n",
       " 'BsmtQualnan',\n",
       " 'BsmtCondnan',\n",
       " 'BsmtExposurenan',\n",
       " 'BsmtFinType1nan',\n",
       " 'Fencenan',\n",
       " 'MiscFeaturenan',\n",
       " 'YearBuilt',\n",
       " 'YearRemodAdd',\n",
       " 'GarageYrBlt']"
      ]
     },
     "execution_count": 128,
     "metadata": {},
     "output_type": "execute_result"
    }
   ],
   "source": [
    "feat_grad=pd.Series(sm_grad.get_support(),index=x.columns)\n",
    "grf=feat_grad[feat_grad==True].index.tolist()\n",
    "grf"
   ]
  },
  {
   "cell_type": "code",
   "execution_count": 145,
   "id": "b0362f82",
   "metadata": {},
   "outputs": [
    {
     "data": {
      "text/plain": [
       "['MSSubClass',\n",
       " 'MSZoning',\n",
       " 'LotFrontage',\n",
       " 'LotArea',\n",
       " 'Street',\n",
       " 'Alley',\n",
       " 'LotShape',\n",
       " 'LandContour',\n",
       " 'Utilities',\n",
       " 'LotConfig',\n",
       " 'LandSlope',\n",
       " 'Neighborhood',\n",
       " 'Condition1',\n",
       " 'Condition2',\n",
       " 'BldgType',\n",
       " 'HouseStyle',\n",
       " 'OverallQual',\n",
       " 'OverallCond',\n",
       " 'RoofStyle',\n",
       " 'RoofMatl',\n",
       " 'Exterior1st',\n",
       " 'Exterior2nd',\n",
       " 'MasVnrType',\n",
       " 'MasVnrArea',\n",
       " 'ExterQual',\n",
       " 'ExterCond',\n",
       " 'Foundation',\n",
       " 'BsmtQual',\n",
       " 'BsmtCond',\n",
       " 'BsmtExposure',\n",
       " 'BsmtFinType1',\n",
       " 'BsmtFinSF1',\n",
       " 'BsmtFinType2',\n",
       " 'BsmtFinSF2',\n",
       " 'BsmtUnfSF',\n",
       " 'TotalBsmtSF',\n",
       " 'Heating',\n",
       " 'HeatingQC',\n",
       " 'CentralAir',\n",
       " 'Electrical',\n",
       " '1stFlrSF',\n",
       " '2ndFlrSF',\n",
       " 'LowQualFinSF',\n",
       " 'GrLivArea',\n",
       " 'BsmtFullBath',\n",
       " 'BsmtHalfBath',\n",
       " 'FullBath',\n",
       " 'HalfBath',\n",
       " 'BedroomAbvGr',\n",
       " 'KitchenAbvGr',\n",
       " 'KitchenQual',\n",
       " 'TotRmsAbvGrd',\n",
       " 'Functional',\n",
       " 'Fireplaces',\n",
       " 'FireplaceQu',\n",
       " 'GarageType',\n",
       " 'GarageFinish',\n",
       " 'GarageCars',\n",
       " 'GarageArea',\n",
       " 'GarageQual',\n",
       " 'GarageCond',\n",
       " 'PavedDrive',\n",
       " 'WoodDeckSF',\n",
       " 'OpenPorchSF',\n",
       " 'EnclosedPorch',\n",
       " '3SsnPorch',\n",
       " 'ScreenPorch',\n",
       " 'PoolArea',\n",
       " 'PoolQC',\n",
       " 'Fence',\n",
       " 'MiscFeature',\n",
       " 'MiscVal',\n",
       " 'MoSold',\n",
       " 'SaleType',\n",
       " 'SaleCondition',\n",
       " 'Alleynan',\n",
       " 'MasVnrTypenan',\n",
       " 'BsmtQualnan',\n",
       " 'BsmtExposurenan',\n",
       " 'BsmtFinType1nan',\n",
       " 'BsmtFinType2nan',\n",
       " 'Electricalnan',\n",
       " 'FireplaceQunan',\n",
       " 'GarageTypenan',\n",
       " 'PoolQCnan',\n",
       " 'Fencenan',\n",
       " 'MiscFeaturenan',\n",
       " 'YearBuilt',\n",
       " 'YearRemodAdd',\n",
       " 'GarageYrBlt']"
      ]
     },
     "execution_count": 145,
     "metadata": {},
     "output_type": "execute_result"
    }
   ],
   "source": [
    "feat_lasso=pd.Series(sm_lasso.get_support(),index=x.columns)\n",
    "lsf=feat_grad[feat_lasso==True].index.tolist()\n",
    "lsf"
   ]
  },
  {
   "cell_type": "code",
   "execution_count": 177,
   "id": "848c1ddc",
   "metadata": {},
   "outputs": [],
   "source": [
    "from sklearn.model_selection import cross_val_score"
   ]
  },
  {
   "cell_type": "code",
   "execution_count": 195,
   "id": "647f1693",
   "metadata": {},
   "outputs": [
    {
     "data": {
      "text/plain": [
       "dict_keys(['explained_variance', 'r2', 'max_error', 'neg_median_absolute_error', 'neg_mean_absolute_error', 'neg_mean_absolute_percentage_error', 'neg_mean_squared_error', 'neg_mean_squared_log_error', 'neg_root_mean_squared_error', 'neg_mean_poisson_deviance', 'neg_mean_gamma_deviance', 'accuracy', 'top_k_accuracy', 'roc_auc', 'roc_auc_ovr', 'roc_auc_ovo', 'roc_auc_ovr_weighted', 'roc_auc_ovo_weighted', 'balanced_accuracy', 'average_precision', 'neg_log_loss', 'neg_brier_score', 'adjusted_rand_score', 'rand_score', 'homogeneity_score', 'completeness_score', 'v_measure_score', 'mutual_info_score', 'adjusted_mutual_info_score', 'normalized_mutual_info_score', 'fowlkes_mallows_score', 'precision', 'precision_macro', 'precision_micro', 'precision_samples', 'precision_weighted', 'recall', 'recall_macro', 'recall_micro', 'recall_samples', 'recall_weighted', 'f1', 'f1_macro', 'f1_micro', 'f1_samples', 'f1_weighted', 'jaccard', 'jaccard_macro', 'jaccard_micro', 'jaccard_samples', 'jaccard_weighted'])"
      ]
     },
     "execution_count": 195,
     "metadata": {},
     "output_type": "execute_result"
    }
   ],
   "source": [
    "from sklearn.metrics import SCORERS\n",
    "SCORERS.keys()"
   ]
  },
  {
   "cell_type": "code",
   "execution_count": 208,
   "id": "dffe265b",
   "metadata": {},
   "outputs": [
    {
     "data": {
      "text/plain": [
       "0.6193307376615182"
      ]
     },
     "execution_count": 208,
     "metadata": {},
     "output_type": "execute_result"
    }
   ],
   "source": [
    "cross_val_score(Lasso(alpha=0.1,max_iter=20000),x.loc[:,lsf],y,cv=5,scoring=\"r2\").mean()"
   ]
  },
  {
   "cell_type": "code",
   "execution_count": 202,
   "id": "6eb019f1",
   "metadata": {},
   "outputs": [
    {
     "data": {
      "text/plain": [
       "0.6222069210739702"
      ]
     },
     "execution_count": 202,
     "metadata": {},
     "output_type": "execute_result"
    }
   ],
   "source": [
    "cross_val_score((),x.loc[:,features.head(10).index],y,cv=5,scoring=\"r2\").mean()"
   ]
  },
  {
   "cell_type": "code",
   "execution_count": 204,
   "id": "242c771c",
   "metadata": {},
   "outputs": [
    {
     "data": {
      "text/plain": [
       "-521661348415015.1"
      ]
     },
     "execution_count": 204,
     "metadata": {},
     "output_type": "execute_result"
    }
   ],
   "source": [
    "cross_val_score(SGDRegressor(),x.loc[:,grf],y,cv=5,scoring=\"r2\").mean()"
   ]
  },
  {
   "cell_type": "code",
   "execution_count": 178,
   "id": "1500d1e9",
   "metadata": {},
   "outputs": [],
   "source": [
    "from sklearn.model_selection import train_test_split\n",
    "from sklearn.metrics import r2_score\n",
    "x_train,x_test,y_train,y_test=train_test_split(x,y ,test_size=0.3,random_state=0)"
   ]
  },
  {
   "cell_type": "code",
   "execution_count": 220,
   "id": "3fbd52dc",
   "metadata": {},
   "outputs": [
    {
     "data": {
      "text/plain": [
       "Lasso(alpha=0.1)"
      ]
     },
     "execution_count": 220,
     "metadata": {},
     "output_type": "execute_result"
    }
   ],
   "source": [
    "lr=Lasso(alpha=0.1,la)\n",
    "lr.fit(x_train,y_train)"
   ]
  },
  {
   "cell_type": "code",
   "execution_count": 221,
   "id": "8a5550e9",
   "metadata": {},
   "outputs": [],
   "source": [
    "y_predict=lr.predict(x_test)"
   ]
  },
  {
   "cell_type": "code",
   "execution_count": 222,
   "id": "f79444f8",
   "metadata": {},
   "outputs": [
    {
     "data": {
      "text/plain": [
       "0.5647621033560205"
      ]
     },
     "execution_count": 222,
     "metadata": {},
     "output_type": "execute_result"
    }
   ],
   "source": [
    "r2_score(y_test,y_predict)"
   ]
  },
  {
   "cell_type": "code",
   "execution_count": 223,
   "id": "fa69112d",
   "metadata": {},
   "outputs": [],
   "source": [
    "from sklearn.decomposition import PCA "
   ]
  },
  {
   "cell_type": "code",
   "execution_count": 272,
   "id": "f2c95d75",
   "metadata": {},
   "outputs": [
    {
     "data": {
      "text/plain": [
       "PCA(n_components=28)"
      ]
     },
     "execution_count": 272,
     "metadata": {},
     "output_type": "execute_result"
    }
   ],
   "source": [
    "ft=PCA(n_components=28)\n",
    "ft.fit(x)"
   ]
  },
  {
   "cell_type": "code",
   "execution_count": 273,
   "id": "81ebb183",
   "metadata": {},
   "outputs": [],
   "source": [
    "x_new=ft.transform(x)"
   ]
  },
  {
   "cell_type": "code",
   "execution_count": 274,
   "id": "669719c0",
   "metadata": {
    "scrolled": true
   },
   "outputs": [
    {
     "data": {
      "text/html": [
       "<div>\n",
       "<style scoped>\n",
       "    .dataframe tbody tr th:only-of-type {\n",
       "        vertical-align: middle;\n",
       "    }\n",
       "\n",
       "    .dataframe tbody tr th {\n",
       "        vertical-align: top;\n",
       "    }\n",
       "\n",
       "    .dataframe thead th {\n",
       "        text-align: right;\n",
       "    }\n",
       "</style>\n",
       "<table border=\"1\" class=\"dataframe\">\n",
       "  <thead>\n",
       "    <tr style=\"text-align: right;\">\n",
       "      <th></th>\n",
       "      <th>0</th>\n",
       "      <th>1</th>\n",
       "      <th>2</th>\n",
       "      <th>3</th>\n",
       "      <th>4</th>\n",
       "      <th>5</th>\n",
       "      <th>6</th>\n",
       "      <th>7</th>\n",
       "      <th>8</th>\n",
       "      <th>9</th>\n",
       "      <th>...</th>\n",
       "      <th>18</th>\n",
       "      <th>19</th>\n",
       "      <th>20</th>\n",
       "      <th>21</th>\n",
       "      <th>22</th>\n",
       "      <th>23</th>\n",
       "      <th>24</th>\n",
       "      <th>25</th>\n",
       "      <th>26</th>\n",
       "      <th>27</th>\n",
       "    </tr>\n",
       "  </thead>\n",
       "  <tbody>\n",
       "    <tr>\n",
       "      <th>0</th>\n",
       "      <td>-43.654089</td>\n",
       "      <td>0.883670</td>\n",
       "      <td>0.065769</td>\n",
       "      <td>-0.672080</td>\n",
       "      <td>-0.036080</td>\n",
       "      <td>-0.433390</td>\n",
       "      <td>-0.025327</td>\n",
       "      <td>0.145912</td>\n",
       "      <td>-0.041463</td>\n",
       "      <td>-0.210543</td>\n",
       "      <td>...</td>\n",
       "      <td>-0.196667</td>\n",
       "      <td>0.179584</td>\n",
       "      <td>0.100911</td>\n",
       "      <td>0.068614</td>\n",
       "      <td>0.468977</td>\n",
       "      <td>0.135995</td>\n",
       "      <td>-0.012114</td>\n",
       "      <td>0.013377</td>\n",
       "      <td>0.036443</td>\n",
       "      <td>-0.067711</td>\n",
       "    </tr>\n",
       "    <tr>\n",
       "      <th>1</th>\n",
       "      <td>0.052004</td>\n",
       "      <td>-9.789066</td>\n",
       "      <td>-1.815480</td>\n",
       "      <td>0.406226</td>\n",
       "      <td>-0.098991</td>\n",
       "      <td>-0.060362</td>\n",
       "      <td>0.324380</td>\n",
       "      <td>-0.455499</td>\n",
       "      <td>-0.171496</td>\n",
       "      <td>0.080734</td>\n",
       "      <td>...</td>\n",
       "      <td>0.358699</td>\n",
       "      <td>-0.143006</td>\n",
       "      <td>-0.274014</td>\n",
       "      <td>-0.257147</td>\n",
       "      <td>-0.321222</td>\n",
       "      <td>0.390572</td>\n",
       "      <td>-0.091433</td>\n",
       "      <td>0.136967</td>\n",
       "      <td>0.085648</td>\n",
       "      <td>0.038431</td>\n",
       "    </tr>\n",
       "    <tr>\n",
       "      <th>2</th>\n",
       "      <td>-40.692424</td>\n",
       "      <td>0.934149</td>\n",
       "      <td>-0.373917</td>\n",
       "      <td>0.468204</td>\n",
       "      <td>-0.012662</td>\n",
       "      <td>0.076543</td>\n",
       "      <td>-0.080525</td>\n",
       "      <td>0.192813</td>\n",
       "      <td>0.101056</td>\n",
       "      <td>-0.409442</td>\n",
       "      <td>...</td>\n",
       "      <td>-0.063528</td>\n",
       "      <td>0.318568</td>\n",
       "      <td>0.075780</td>\n",
       "      <td>0.267128</td>\n",
       "      <td>-0.028760</td>\n",
       "      <td>-0.029240</td>\n",
       "      <td>0.060528</td>\n",
       "      <td>0.106144</td>\n",
       "      <td>-0.093131</td>\n",
       "      <td>0.020195</td>\n",
       "    </tr>\n",
       "    <tr>\n",
       "      <th>3</th>\n",
       "      <td>33.340083</td>\n",
       "      <td>15.621472</td>\n",
       "      <td>47.177725</td>\n",
       "      <td>1.366394</td>\n",
       "      <td>-0.780135</td>\n",
       "      <td>-0.054945</td>\n",
       "      <td>-0.419770</td>\n",
       "      <td>-0.208834</td>\n",
       "      <td>0.491199</td>\n",
       "      <td>-0.229261</td>\n",
       "      <td>...</td>\n",
       "      <td>-0.394527</td>\n",
       "      <td>0.097997</td>\n",
       "      <td>0.300598</td>\n",
       "      <td>0.150535</td>\n",
       "      <td>0.289475</td>\n",
       "      <td>-0.195821</td>\n",
       "      <td>-0.289406</td>\n",
       "      <td>-0.234871</td>\n",
       "      <td>0.728560</td>\n",
       "      <td>0.499539</td>\n",
       "    </tr>\n",
       "    <tr>\n",
       "      <th>4</th>\n",
       "      <td>-38.621865</td>\n",
       "      <td>-0.348674</td>\n",
       "      <td>-0.159570</td>\n",
       "      <td>0.767742</td>\n",
       "      <td>-0.088154</td>\n",
       "      <td>0.284350</td>\n",
       "      <td>-0.185340</td>\n",
       "      <td>-0.198122</td>\n",
       "      <td>0.387554</td>\n",
       "      <td>-0.035055</td>\n",
       "      <td>...</td>\n",
       "      <td>0.144492</td>\n",
       "      <td>0.433632</td>\n",
       "      <td>-0.038020</td>\n",
       "      <td>0.098919</td>\n",
       "      <td>-0.369458</td>\n",
       "      <td>-0.086874</td>\n",
       "      <td>0.057671</td>\n",
       "      <td>0.002372</td>\n",
       "      <td>-0.126108</td>\n",
       "      <td>-0.078412</td>\n",
       "    </tr>\n",
       "  </tbody>\n",
       "</table>\n",
       "<p>5 rows × 28 columns</p>\n",
       "</div>"
      ],
      "text/plain": [
       "          0          1          2         3         4         5         6   \\\n",
       "0 -43.654089   0.883670   0.065769 -0.672080 -0.036080 -0.433390 -0.025327   \n",
       "1   0.052004  -9.789066  -1.815480  0.406226 -0.098991 -0.060362  0.324380   \n",
       "2 -40.692424   0.934149  -0.373917  0.468204 -0.012662  0.076543 -0.080525   \n",
       "3  33.340083  15.621472  47.177725  1.366394 -0.780135 -0.054945 -0.419770   \n",
       "4 -38.621865  -0.348674  -0.159570  0.767742 -0.088154  0.284350 -0.185340   \n",
       "\n",
       "         7         8         9   ...        18        19        20        21  \\\n",
       "0  0.145912 -0.041463 -0.210543  ... -0.196667  0.179584  0.100911  0.068614   \n",
       "1 -0.455499 -0.171496  0.080734  ...  0.358699 -0.143006 -0.274014 -0.257147   \n",
       "2  0.192813  0.101056 -0.409442  ... -0.063528  0.318568  0.075780  0.267128   \n",
       "3 -0.208834  0.491199 -0.229261  ... -0.394527  0.097997  0.300598  0.150535   \n",
       "4 -0.198122  0.387554 -0.035055  ...  0.144492  0.433632 -0.038020  0.098919   \n",
       "\n",
       "         22        23        24        25        26        27  \n",
       "0  0.468977  0.135995 -0.012114  0.013377  0.036443 -0.067711  \n",
       "1 -0.321222  0.390572 -0.091433  0.136967  0.085648  0.038431  \n",
       "2 -0.028760 -0.029240  0.060528  0.106144 -0.093131  0.020195  \n",
       "3  0.289475 -0.195821 -0.289406 -0.234871  0.728560  0.499539  \n",
       "4 -0.369458 -0.086874  0.057671  0.002372 -0.126108 -0.078412  \n",
       "\n",
       "[5 rows x 28 columns]"
      ]
     },
     "execution_count": 274,
     "metadata": {},
     "output_type": "execute_result"
    }
   ],
   "source": [
    "xnew_df=pd.DataFrame(x_new)\n",
    "xnew_df.head()"
   ]
  },
  {
   "cell_type": "code",
   "execution_count": 275,
   "id": "f59b8452",
   "metadata": {},
   "outputs": [],
   "source": [
    "x_train1,x_test1,y_train1,y_test1=train_test_split(xnew_df,y ,test_size=0.3,random_state=0)\n",
    "lr1=Lasso(alpha=0.1)\n",
    "lr1.fit(x_train1,y_train1)\n",
    "y_predict1=lr1.predict(x_test1)"
   ]
  },
  {
   "cell_type": "code",
   "execution_count": 276,
   "id": "7836da3b",
   "metadata": {},
   "outputs": [
    {
     "data": {
      "text/plain": [
       "0.6186865782956377"
      ]
     },
     "execution_count": 276,
     "metadata": {},
     "output_type": "execute_result"
    }
   ],
   "source": [
    "r2_score(y_test1,y_predict1)"
   ]
  },
  {
   "cell_type": "code",
   "execution_count": 299,
   "id": "a584944b",
   "metadata": {},
   "outputs": [],
   "source": [
    "scr= []\n",
    "for i in range (1,93):\n",
    "    ft=PCA(n_components=i)\n",
    "    ft.fit(x)\n",
    "    x_new=ft.transform(x)\n",
    "    xnew_df=pd.DataFrame(x_new)\n",
    "    x_train1,x_test1,y_train1,y_test1=train_test_split(xnew_df,y ,test_size=0.3,random_state=0)\n",
    "    lr1=Lasso(alpha=0.1,max_iter=20000)\n",
    "    lr1.fit(x_train1,y_train1)\n",
    "    y_predict1=lr1.predict(x_test1)\n",
    "    r2=r2_score(y_test1,y_predict1)\n",
    "    scr.append(r2)\n",
    "    \n",
    "    \n",
    "    "
   ]
  },
  {
   "cell_type": "code",
   "execution_count": 300,
   "id": "1276497d",
   "metadata": {},
   "outputs": [
    {
     "data": {
      "text/plain": [
       "(18.0, 64.0)"
      ]
     },
     "execution_count": 300,
     "metadata": {},
     "output_type": "execute_result"
    },
    {
     "data": {
      "image/png": "[encoded data removed]",
      "text/plain": [
       "<Figure size 432x288 with 1 Axes>"
      ]
     },
     "metadata": {
      "needs_background": "light"
     },
     "output_type": "display_data"
    }
   ],
   "source": [
    "plt.plot(np.arange(17,65,1),scr[17:65])\n",
    "plt.xlim([18,64])"
   ]
  },
  {
   "cell_type": "code",
   "execution_count": null,
   "id": "7227b0e2",
   "metadata": {},
   "outputs": [],
   "source": []
  }
 ],
 "metadata": {
  "kernelspec": {
   "display_name": "Python 3 (ipykernel)",
   "language": "python",
   "name": "python3"
  },
  "language_info": {
   "codemirror_mode": {
    "name": "ipython",
    "version": 3
   },
   "file_extension": ".py",
   "mimetype": "text/x-python",
   "name": "python",
   "nbconvert_exporter": "python",
   "pygments_lexer": "ipython3",
   "version": "3.9.7"
  }
 },
 "nbformat": 4,
 "nbformat_minor": 5
}
